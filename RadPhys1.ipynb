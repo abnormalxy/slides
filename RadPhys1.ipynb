{
 "metadata": {
  "celltoolbar": "Slideshow",
  "name": "",
  "signature": "sha256:aaccc9979ac386ec76489183bed803ef394b5330b37da2a9fe3e8865a8485077"
 },
 "nbformat": 3,
 "nbformat_minor": 0,
 "worksheets": [
  {
   "cells": [
    {
     "cell_type": "markdown",
     "metadata": {
      "slideshow": {
       "slide_type": "slide"
      }
     },
     "source": [
      "**Synergistic combination of inelastic neutron scattering (INS) and nuclear-resonant inelastic x-ray scattering (NRIXS) to acquire accurate phonon spectra**\n",
      "\n",
      "**Jorge Munoz**\n",
      "\n",
      "Information Technology Research, Intel Corporation\n",
      "    \n",
      "Presented at the XI International Symposium on Radiation Physics \n",
      "IIT-UACJ, Ciudad Juarez, Mexico\n",
      "March 6, 2015"
     ]
    },
    {
     "cell_type": "markdown",
     "metadata": {
      "slideshow": {
       "slide_type": "slide"
      }
     },
     "source": [
      "**Collaborators**\n",
      "\n",
      "Fred Yang, Lisa Mauger and Prof. Brent Fultz at Caltech\n",
      "\n",
      "Matt Lucas, currently at GE\n",
      "\n",
      "Olivier Delaire, Matt Stone and Doug Abernathy at Oak Ridge National Lab\n",
      "\n",
      "Yuming Xiao at Argonne National Lab "
     ]
    },
    {
     "cell_type": "markdown",
     "metadata": {
      "slideshow": {
       "slide_type": "slide"
      }
     },
     "source": [
      "This presentation can be followed here:\n",
      "\n",
      "http://slideviewer.herokuapp.com/url/abnormalxy.com/images/RadPhys.ipynb?create=1#/"
     ]
    },
    {
     "cell_type": "markdown",
     "metadata": {
      "slideshow": {
       "slide_type": "slide"
      }
     },
     "source": [
      "**Phonons and thermodynamics**\n",
      "\n",
      "The stable phase of a system at a given set of environmental conditions is the one that minimizes the free energy of the system\n",
      "\n",
      "![](http://www.abnormalxy.com/images/F=U-TS.png)\n",
      "\n",
      "In principle, the stable phase can be determined if all the free energy contributions are known. This is exciting because then we could use computers to calculate phase diagrams, and the properties of a material depend on its phase."
     ]
    },
    {
     "cell_type": "markdown",
     "metadata": {
      "slideshow": {
       "slide_type": "subslide"
      }
     },
     "source": [
      "![Phase diagram of steel](http://www.abnormalxy.com/images/steel.jpg)"
     ]
    },
    {
     "cell_type": "markdown",
     "metadata": {
      "slideshow": {
       "slide_type": "slide"
      }
     },
     "source": [
      "**Phonons and thermodynamics**\n",
      "\n",
      "The main contribution to the entropy comes from atomic vibrations. It can be calcualted using Boltzmann's definition -- counting the number of states available to the atomic vibrations, the phonons."
     ]
    },
    {
     "cell_type": "markdown",
     "metadata": {
      "slideshow": {
       "slide_type": "subslide"
      }
     },
     "source": [
      "![Boltzmann](https://upload.wikimedia.org/wikipedia/commons/6/63/Zentralfriedhof_Vienna_-_Boltzmann.JPG)"
     ]
    },
    {
     "cell_type": "markdown",
     "metadata": {
      "slideshow": {
       "slide_type": "subslide"
      }
     },
     "source": [
      "Phonons are bosons, they follow Bose-Einstein statistics. The vibrational entropy depends on the phonon Density-of-States (DOS). \n",
      "![](http://www.abnormalxy.com/images/Svib.png)"
     ]
    },
    {
     "cell_type": "markdown",
     "metadata": {
      "slideshow": {
       "slide_type": "subslide"
      }
     },
     "source": [
      "![Phonon DOS of Fe and ball-milled Fe](http://www.abnormalxy.com/images/Nano_DOS.jpg)"
     ]
    },
    {
     "cell_type": "markdown",
     "metadata": {
      "slideshow": {
       "slide_type": "slide"
      }
     },
     "source": [
      "**Phonons and neutrons**\n",
      "\n",
      "Phonons are quasiparticles, with energies in the tens to hundreds of meV, same range as thermal neutrons, and hence can scatter neutrons. INS is the most common technique to measure (all) the phonons.\n",
      "\n",
      "The dispersions can be measured using a triple-axis instrument. The phonon DOS can be measured more directly using a time-of-flight instrument."
     ]
    },
    {
     "cell_type": "markdown",
     "metadata": {
      "slideshow": {
       "slide_type": "subslide"
      }
     },
     "source": [
      "![Time-of-flight](http://www.abnormalxy.com/images/ins_wiki.png)"
     ]
    },
    {
     "cell_type": "markdown",
     "metadata": {
      "slideshow": {
       "slide_type": "subslide"
      }
     },
     "source": [
      "![Spallation Neutron Source](http://www.abnormalxy.com/images/INS_balls.png)"
     ]
    },
    {
     "cell_type": "markdown",
     "metadata": {
      "slideshow": {
       "slide_type": "subslide"
      }
     },
     "source": [
      "![SNS](http://www.abnormalxy.com/images/sns1.jpg)"
     ]
    },
    {
     "cell_type": "markdown",
     "metadata": {
      "slideshow": {
       "slide_type": "subslide"
      }
     },
     "source": [
      "![INS Data](http://www.abnormalxy.com/images/INS_data.png)"
     ]
    },
    {
     "cell_type": "markdown",
     "metadata": {
      "slideshow": {
       "slide_type": "subslide"
      }
     },
     "source": [
      "![MICAS](http://www.abnormalxy.com/images/Ph_HOT-010.jpg) "
     ]
    },
    {
     "cell_type": "markdown",
     "metadata": {
      "slideshow": {
       "slide_type": "slide"
      }
     },
     "source": [
      "**Phonons and x-rays and Mossbauer isotopes and nuclei and other stuff**\n",
      "\n",
      "While atomic nuclei are of different sizes to the neutrons, x-rays at 14.412 keV can be absorbed by the 57Fe atoms only. After a brief time they are reemited and can be measured. By changing the x-ray energy by a few meV we can measure the number of phonons with that energy."
     ]
    },
    {
     "cell_type": "markdown",
     "metadata": {
      "slideshow": {
       "slide_type": "subslide"
      }
     },
     "source": [
      "![](http://www.abnormalxy.com/images/nrixs_fixed.png) "
     ]
    },
    {
     "cell_type": "markdown",
     "metadata": {
      "slideshow": {
       "slide_type": "subslide"
      }
     },
     "source": [
      "![](http://www.abnormalxy.com/images/nrixs_vibration.png) "
     ]
    },
    {
     "cell_type": "markdown",
     "metadata": {
      "slideshow": {
       "slide_type": "subslide"
      }
     },
     "source": [
      "![](http://www.abnormalxy.com/images/nrixs_discriminate.png) "
     ]
    },
    {
     "cell_type": "markdown",
     "metadata": {
      "slideshow": {
       "slide_type": "subslide"
      }
     },
     "source": [
      "![](http://www.abnormalxy.com/images/nrixs_setup.png) "
     ]
    },
    {
     "cell_type": "markdown",
     "metadata": {
      "slideshow": {
       "slide_type": "slide"
      }
     },
     "source": [
      "**Combining INS and NRIXS results in Fe-V alloys**"
     ]
    },
    {
     "cell_type": "markdown",
     "metadata": {
      "slideshow": {
       "slide_type": "subslide"
      }
     },
     "source": [
      "![](http://www.abnormalxy.com/images/FeV_nrixs.png) "
     ]
    },
    {
     "cell_type": "markdown",
     "metadata": {
      "slideshow": {
       "slide_type": "subslide"
      }
     },
     "source": [
      "![](http://www.abnormalxy.com/images/FeV_neutrons.png) "
     ]
    },
    {
     "cell_type": "markdown",
     "metadata": {
      "slideshow": {
       "slide_type": "subslide"
      }
     },
     "source": [
      "![](http://www.abnormalxy.com/images/FeV_accurate.png) "
     ]
    },
    {
     "cell_type": "markdown",
     "metadata": {
      "slideshow": {
       "slide_type": "slide"
      }
     },
     "source": [
      "**Combining INS and NRIXS results in ordered and disordered FeV**"
     ]
    },
    {
     "cell_type": "markdown",
     "metadata": {
      "slideshow": {
       "slide_type": "subslide"
      }
     },
     "source": [
      "![](http://www.abnormalxy.com/images/FeV_1.png) "
     ]
    },
    {
     "cell_type": "markdown",
     "metadata": {
      "slideshow": {
       "slide_type": "subslide"
      }
     },
     "source": [
      "![](http://www.abnormalxy.com/images/FeV_2.png) "
     ]
    },
    {
     "cell_type": "markdown",
     "metadata": {
      "slideshow": {
       "slide_type": "slide"
      }
     },
     "source": [
      "**Combining INS and NRIXS results in FeTi**"
     ]
    },
    {
     "cell_type": "markdown",
     "metadata": {
      "slideshow": {
       "slide_type": "subslide"
      }
     },
     "source": [
      "![](http://www.abnormalxy.com/images/FeTi_highT.png) "
     ]
    },
    {
     "cell_type": "markdown",
     "metadata": {
      "slideshow": {
       "slide_type": "subslide"
      }
     },
     "source": [
      "![](http://www.abnormalxy.com/images/FeTi_highP.png) "
     ]
    },
    {
     "cell_type": "markdown",
     "metadata": {
      "slideshow": {
       "slide_type": "slide"
      }
     },
     "source": [
      "**Now some science**\n",
      "\n",
      "Phonon-induced charge transfer in FeTi"
     ]
    },
    {
     "cell_type": "markdown",
     "metadata": {
      "slideshow": {
       "slide_type": "slide"
      }
     },
     "source": [
      "**Quasiharmonicity in FeTi at high pressures**\n",
      "\n",
      "- We performed total energy electronic structure calculations at compressed volumes using VASP.\n",
      "- The equivalence between experimental pressure and compressed volume in the calculations was obtained from high pressure x-ray diffraction measurements performed at Brookhaven National Lab.\n",
      "- Agreement between the measurements and the calculations is excellent -- thus the system is quasiharmonic (as expected)."
     ]
    },
    {
     "cell_type": "markdown",
     "metadata": {
      "slideshow": {
       "slide_type": "subslide"
      }
     },
     "source": [
      "![](http://www.abnormalxy.com/images/FeTi_highP_calc.png)"
     ]
    },
    {
     "cell_type": "markdown",
     "metadata": {
      "slideshow": {
       "slide_type": "subslide"
      }
     },
     "source": [
      "![](http://www.abnormalxy.com/images/FeTi_EoS.png)"
     ]
    },
    {
     "cell_type": "markdown",
     "metadata": {
      "slideshow": {
       "slide_type": "subslide"
      }
     },
     "source": [
      "![](http://www.abnormalxy.com/images/FeTi_EvsP.png)"
     ]
    },
    {
     "cell_type": "markdown",
     "metadata": {
      "slideshow": {
       "slide_type": "slide"
      }
     },
     "source": [
      "**The phonons in FeTi are not quasiharmonic at high temperatures**\n",
      "\n",
      "- We performed total energy electronic structure calculations at compressed volumes using VASP.\n",
      "- The equivalence between experimental temperature and increased volume in the calculations was considering the phonon free energies.\n",
      "\n",
      "![](http://www.abnormalxy.com/images/phonon_free_energy.png)\n",
      "\n",
      "\n",
      "- Calculations account for about 1/3 of the observed experimental softening\n",
      "- There is no broadening (usually due to phonon-phonon interaction)"
     ]
    },
    {
     "cell_type": "markdown",
     "metadata": {
      "slideshow": {
       "slide_type": "subslide"
      }
     },
     "source": [
      "![](http://www.abnormalxy.com/images/FeTi_EvsT.png)"
     ]
    },
    {
     "cell_type": "markdown",
     "metadata": {
      "slideshow": {
       "slide_type": "subslide"
      }
     },
     "source": [
      "![](http://www.abnormalxy.com/images/FeTi_broad.png)"
     ]
    },
    {
     "cell_type": "markdown",
     "metadata": {
      "slideshow": {
       "slide_type": "slide"
      }
     },
     "source": [
      "**The rest of the softening is anharmonic**\n",
      "\n",
      "\n",
      "- Ab-initio molecular dynamics calculations at constant volume show an increase in the number of electrons at the Fermi level. This effects has been related to phonon anharmonicity in other metallics systems and occurrs because the screenning abilities of the electrons change.\n",
      "- Phonon DOS curves were obtained by fitting average force constants, there is softening of the phonons at high temperatures which accounts for about 2/3 of the experimental phonon softening.\n"
     ]
    },
    {
     "cell_type": "markdown",
     "metadata": {
      "slideshow": {
       "slide_type": "subslide"
      }
     },
     "source": [
      "![](http://www.abnormalxy.com/images/FeTi_eDOS.png)"
     ]
    },
    {
     "cell_type": "markdown",
     "metadata": {
      "slideshow": {
       "slide_type": "subslide"
      }
     },
     "source": [
      "![](http://www.abnormalxy.com/images/FeTi_pDOS.png)"
     ]
    },
    {
     "cell_type": "markdown",
     "metadata": {
      "slideshow": {
       "slide_type": "slide"
      }
     },
     "source": [
      "**Connecting real and k-space**\n",
      "\n",
      "- There is a large softening of the M5' phonons, among others. \n",
      "- The M5' are mostly Fe motions (responsible for the shape-memory alloy effect in NiTi)\n",
      "- There is a change in the integrated charge in the eg and t2g orbitals at the Fe sites\n",
      "- There is a large decrease in the 2nn force constants in the experimental data (used an evolutionary algorithm to fit the phonon DOS curves and get dispersions/force constants)"
     ]
    },
    {
     "cell_type": "markdown",
     "metadata": {
      "slideshow": {
       "slide_type": "subslide"
      }
     },
     "source": [
      "![](http://www.abnormalxy.com/images/FeTi_dispersions.png)"
     ]
    },
    {
     "cell_type": "markdown",
     "metadata": {
      "slideshow": {
       "slide_type": "subslide"
      }
     },
     "source": [
      "![](http://www.abnormalxy.com/images/M5.png)"
     ]
    },
    {
     "cell_type": "markdown",
     "metadata": {
      "slideshow": {
       "slide_type": "subslide"
      }
     },
     "source": [
      "![](http://www.abnormalxy.com/images/FeTi_asphericity.png)"
     ]
    },
    {
     "cell_type": "markdown",
     "metadata": {
      "slideshow": {
       "slide_type": "subslide"
      }
     },
     "source": [
      "![](http://www.abnormalxy.com/images/FeTi_exp_FC.png)"
     ]
    },
    {
     "cell_type": "markdown",
     "metadata": {
      "slideshow": {
       "slide_type": "slide"
      }
     },
     "source": [
      "**The end**\n",
      "\n",
      "Contact information:\n",
      "\n",
      "![](http://www.abnormalxy.com/images/contact.png)"
     ]
    }
   ],
   "metadata": {}
  }
 ]
}